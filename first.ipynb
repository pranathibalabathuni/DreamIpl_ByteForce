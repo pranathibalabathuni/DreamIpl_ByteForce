import os
import sys
from pathlib import Path

# Define repository details
repo_name = "DreamIpl_ByteForce"
repo_url = "https://github.com/pranathibalabathuni/DreamIpl_ByteForce.git"
repo_path = Path(f"/content/{repo_name}")
branch_name = "main"  # Change this to the branch you want to use

# Clone the repository if it doesn't exist
if not repo_path.exists():
    print("🚀 Cloning the repository...")
    os.system(f"git clone -b {branch_name} {repo_url} {repo_path}")
else:
    print(f"Repository already exists at: {repo_path}")
    os.chdir(repo_path)
    os.system("git fetch")  # Fetch latest changes
    os.system(f"git checkout {branch_name}")  # Switch to the correct branch
    os.system("git pull origin {branch_name}")  # Pull latest changes

# Change directory to the repo and add to sys.path
os.chdir(repo_path)
sys.path.append(str(repo_path))

print(f"Repository is ready to use at: {repo_path}")
